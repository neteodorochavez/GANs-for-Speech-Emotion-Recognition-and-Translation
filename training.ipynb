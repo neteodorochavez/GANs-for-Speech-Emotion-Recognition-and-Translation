{
 "cells": [
  {
   "cell_type": "code",
   "execution_count": null,
   "id": "2ec5e510",
   "metadata": {},
   "outputs": [],
   "source": [
    "%matplotlib inline \n",
    "import torch\n",
    "import torch.nn as nn \n",
    "import torch.nn.functional as F \n",
    "from torch.utils.data import Dataset, DataLoader \n",
    "\n",
    "import os \n",
    "import numpy as np \n",
    "import pandas as pd \n",
    "import matplotlib.pyplot as plt \n",
    "import cv2\n",
    "\n",
    "import librosa\n",
    "import librosa.display\n",
    "import skimage.io\n",
    "\n",
    "import os \n",
    "import sys"
   ]
  },
  {
   "cell_type": "code",
   "execution_count": null,
   "id": "4937011e",
   "metadata": {
    "scrolled": true
   },
   "outputs": [],
   "source": [
    "from utils import * "
   ]
  },
  {
   "cell_type": "markdown",
   "id": "e36ecc89",
   "metadata": {},
   "source": [
    "**Load in data**"
   ]
  },
  {
   "cell_type": "code",
   "execution_count": null,
   "id": "bc722e49",
   "metadata": {
    "scrolled": true
   },
   "outputs": [],
   "source": [
    "df = pd.read_csv('data/RAVDESS_processed_dataset.csv')\n",
    "df.head()"
   ]
  },
  {
   "cell_type": "markdown",
   "id": "f19228ee",
   "metadata": {},
   "source": [
    "**Dataset and Dataloader**"
   ]
  },
  {
   "cell_type": "code",
   "execution_count": null,
   "id": "9c4534ba",
   "metadata": {},
   "outputs": [],
   "source": [
    "train_ds = EmotionDataset(df)"
   ]
  },
  {
   "cell_type": "code",
   "execution_count": null,
   "id": "2fce7688",
   "metadata": {},
   "outputs": [],
   "source": [
    "train_dl = DataLoader(train_ds, batch_size=2)"
   ]
  },
  {
   "cell_type": "markdown",
   "id": "ed92e88c",
   "metadata": {},
   "source": [
    "**Initial Model** "
   ]
  },
  {
   "cell_type": "code",
   "execution_count": null,
   "id": "d0efefa2",
   "metadata": {},
   "outputs": [],
   "source": [
    "gen = UNet()\n",
    "disc = NLayerDiscriminator(input_nc=9)"
   ]
  },
  {
   "cell_type": "markdown",
   "id": "6929cfc2",
   "metadata": {},
   "source": [
    "**Training Loop**"
   ]
  },
  {
   "cell_type": "code",
   "execution_count": null,
   "id": "ad7b07f6",
   "metadata": {},
   "outputs": [],
   "source": [
    "gen, disc, loss_dictionary = train(gen, disc, train_dl, num_epochs=1, val_mode=False)"
   ]
  },
  {
   "cell_type": "markdown",
   "id": "99fdabda",
   "metadata": {},
   "source": [
    "**Model Predictions**"
   ]
  },
  {
   "cell_type": "code",
   "execution_count": null,
   "id": "b66eef29",
   "metadata": {},
   "outputs": [],
   "source": [
    "loss_dictionary"
   ]
  },
  {
   "cell_type": "markdown",
   "id": "013aea75",
   "metadata": {},
   "source": [
    "**Model Metrics**"
   ]
  },
  {
   "cell_type": "code",
   "execution_count": null,
   "id": "07d951de",
   "metadata": {},
   "outputs": [],
   "source": [
    "input_img.shape"
   ]
  },
  {
   "cell_type": "code",
   "execution_count": null,
   "id": "7c53dc53",
   "metadata": {},
   "outputs": [],
   "source": []
  }
 ],
 "metadata": {
  "kernelspec": {
   "display_name": "Python 3",
   "language": "python",
   "name": "python3"
  },
  "language_info": {
   "codemirror_mode": {
    "name": "ipython",
    "version": 3
   },
   "file_extension": ".py",
   "mimetype": "text/x-python",
   "name": "python",
   "nbconvert_exporter": "python",
   "pygments_lexer": "ipython3",
   "version": "3.8.11"
  }
 },
 "nbformat": 4,
 "nbformat_minor": 5
}
