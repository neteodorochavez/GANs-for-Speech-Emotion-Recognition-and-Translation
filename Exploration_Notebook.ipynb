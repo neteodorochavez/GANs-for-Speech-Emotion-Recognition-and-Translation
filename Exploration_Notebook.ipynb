{
 "cells": [
  {
   "cell_type": "code",
   "execution_count": 24,
   "id": "ad809db2",
   "metadata": {},
   "outputs": [],
   "source": [
    "import os \n",
    "import numpy as np \n",
    "import pandas as pd \n",
    "import matplotlib.pyplot as plt \n",
    "\n",
    "import torch\n",
    "import librosa"
   ]
  },
  {
   "cell_type": "markdown",
   "id": "2db9c8e5",
   "metadata": {},
   "source": [
    "**Preprocessing**"
   ]
  },
  {
   "cell_type": "code",
   "execution_count": 6,
   "id": "1ae5ddc7",
   "metadata": {},
   "outputs": [],
   "source": [
    "ravdess_emotions = {'01':'neutral', '02':'calm', '03':'happy', '04':'sad',\\\n",
    "                   '05':'angry', '06':'fear', '07':'disgust','08':'surprise'}"
   ]
  },
  {
   "cell_type": "code",
   "execution_count": 19,
   "id": "5d290171",
   "metadata": {},
   "outputs": [],
   "source": [
    "processed_data = []\n",
    "# Folder path of the data \n",
    "data_path = 'data/speech-emotion-recognition-ravdess-data/'\n",
    "\n",
    "# Extracting Label of audio clip from the file name based on the name of the dataset. \n",
    "for root, dirs, files in os.walk(data_path):\n",
    "    for file in files: \n",
    "        if not file.endswith('.DS_Store'):\n",
    "            file_path = os.path.join(root, file)\n",
    "            # Split the file name based on dataset \n",
    "            emotion = ravdess_emotions[file.split('-')[2]]\n",
    "            #print(emotion)\n",
    "            processed_data.append([file_path, emotion])\n",
    "        \n",
    "# Compute Recipe Outputs: \n",
    "speech_data_processed_df = pd.DataFrame(processed_data, columns=['file_name','emotions'])\n"
   ]
  },
  {
   "cell_type": "code",
   "execution_count": 20,
   "id": "31b9f59c",
   "metadata": {},
   "outputs": [
    {
     "data": {
      "text/html": [
       "<div>\n",
       "<style scoped>\n",
       "    .dataframe tbody tr th:only-of-type {\n",
       "        vertical-align: middle;\n",
       "    }\n",
       "\n",
       "    .dataframe tbody tr th {\n",
       "        vertical-align: top;\n",
       "    }\n",
       "\n",
       "    .dataframe thead th {\n",
       "        text-align: right;\n",
       "    }\n",
       "</style>\n",
       "<table border=\"1\" class=\"dataframe\">\n",
       "  <thead>\n",
       "    <tr style=\"text-align: right;\">\n",
       "      <th></th>\n",
       "      <th>file_name</th>\n",
       "      <th>emotions</th>\n",
       "    </tr>\n",
       "  </thead>\n",
       "  <tbody>\n",
       "    <tr>\n",
       "      <th>0</th>\n",
       "      <td>data/speech-emotion-recognition-ravdess-data/A...</td>\n",
       "      <td>angry</td>\n",
       "    </tr>\n",
       "    <tr>\n",
       "      <th>1</th>\n",
       "      <td>data/speech-emotion-recognition-ravdess-data/A...</td>\n",
       "      <td>fear</td>\n",
       "    </tr>\n",
       "    <tr>\n",
       "      <th>2</th>\n",
       "      <td>data/speech-emotion-recognition-ravdess-data/A...</td>\n",
       "      <td>fear</td>\n",
       "    </tr>\n",
       "    <tr>\n",
       "      <th>3</th>\n",
       "      <td>data/speech-emotion-recognition-ravdess-data/A...</td>\n",
       "      <td>angry</td>\n",
       "    </tr>\n",
       "    <tr>\n",
       "      <th>4</th>\n",
       "      <td>data/speech-emotion-recognition-ravdess-data/A...</td>\n",
       "      <td>disgust</td>\n",
       "    </tr>\n",
       "  </tbody>\n",
       "</table>\n",
       "</div>"
      ],
      "text/plain": [
       "                                           file_name emotions\n",
       "0  data/speech-emotion-recognition-ravdess-data/A...    angry\n",
       "1  data/speech-emotion-recognition-ravdess-data/A...     fear\n",
       "2  data/speech-emotion-recognition-ravdess-data/A...     fear\n",
       "3  data/speech-emotion-recognition-ravdess-data/A...    angry\n",
       "4  data/speech-emotion-recognition-ravdess-data/A...  disgust"
      ]
     },
     "execution_count": 20,
     "metadata": {},
     "output_type": "execute_result"
    }
   ],
   "source": [
    "speech_data_processed_df.head()"
   ]
  },
  {
   "cell_type": "markdown",
   "id": "37aa80fc",
   "metadata": {},
   "source": [
    "**Acoustic Feature Extraction**"
   ]
  },
  {
   "cell_type": "code",
   "execution_count": 27,
   "id": "bee57d45",
   "metadata": {},
   "outputs": [],
   "source": [
    "import wave"
   ]
  },
  {
   "cell_type": "code",
   "execution_count": 28,
   "id": "c30a41ae",
   "metadata": {},
   "outputs": [],
   "source": [
    "sf_filewave = wave.open('data/speech-emotion-recognition-ravdess-data/Actor_01/03-01-01-01-01-01-01.wav')\n",
    "signal_sf = sf_filewave.readframes(-1)\n",
    "\n",
    "# Convert audio bytes to integers\n",
    "soundwave_sf = np.frombuffer(signal_sf, dtype='int16')\n",
    "\n",
    "# Get the sound wave frame rate \n",
    "framerate_sf = sf_filewave.getframerate()\n",
    "\n",
    "# Find the sound wave timestamps \n",
    "time_sf = np.linspace(start=0, stop=len(soundwave_sf)/framerate_sf, num=len(soundwave_sf))"
   ]
  },
  {
   "cell_type": "code",
   "execution_count": 30,
   "id": "9afccede",
   "metadata": {},
   "outputs": [
    {
     "data": {
      "image/png": "[encoded data removed]",
      "text/plain": [
       "<Figure size 1080x216 with 1 Axes>"
      ]
     },
     "metadata": {
      "needs_background": "light"
     },
     "output_type": "display_data"
    }
   ],
   "source": [
    "fig, ax = plt.subplots(figsize=(15,3))\n",
    "\n",
    "# Setup the title and axis titles\n",
    "plt.title('Amplitude over Time')\n",
    "plt.ylabel('Amplitude')\n",
    "plt.xlabel('Time (seconds)')\n",
    "# Add the audio data to the plot\n",
    "ax.plot(time_sf, soundwave_sf, label='Warm Memories', alpha=0.5)\n",
    "plt.legend()\n",
    "plt.show()"
   ]
  },
  {
   "cell_type": "code",
   "execution_count": 25,
   "id": "e369199b",
   "metadata": {},
   "outputs": [],
   "source": [
    "def extract_features(X, sample_rate): \n",
    "    result = np.array([])\n",
    "    \n",
    "    # Mel Spectrogram: \n",
    "    mel = np.mean(librosa.feature.melspectrogram(X, sr=sample_rate).T, axis=0)\n",
    "    result = np.hstack((result, mel))\n",
    "    \n",
    "    return result "
   ]
  },
  {
   "cell_type": "code",
   "execution_count": 31,
   "id": "32e8bbcf",
   "metadata": {},
   "outputs": [],
   "source": [
    "#extract_features(X, 60)"
   ]
  },
  {
   "cell_type": "code",
   "execution_count": null,
   "id": "0ab9221c",
   "metadata": {},
   "outputs": [],
   "source": []
  }
 ],
 "metadata": {
  "kernelspec": {
   "display_name": "Python 3",
   "language": "python",
   "name": "python3"
  },
  "language_info": {
   "codemirror_mode": {
    "name": "ipython",
    "version": 3
   },
   "file_extension": ".py",
   "mimetype": "text/x-python",
   "name": "python",
   "nbconvert_exporter": "python",
   "pygments_lexer": "ipython3",
   "version": "3.8.8"
  }
 },
 "nbformat": 4,
 "nbformat_minor": 5
}
