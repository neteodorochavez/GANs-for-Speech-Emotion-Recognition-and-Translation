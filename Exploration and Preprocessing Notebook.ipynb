{
 "cells": [
  {
   "cell_type": "code",
   "execution_count": 1,
   "id": "ad809db2",
   "metadata": {},
   "outputs": [],
   "source": [
    "%matplotlib inline \n",
    "import torch\n",
    "import torch.nn as nn \n",
    "import torch.nn.functional as F \n",
    "from torch.utils.data import Dataset, DataLoader \n",
    "\n",
    "import os \n",
    "import numpy as np \n",
    "import pandas as pd \n",
    "import matplotlib.pyplot as plt \n",
    "import cv2\n",
    "\n",
    "import librosa\n",
    "import librosa.display\n",
    "import skimage.io"
   ]
  },
  {
   "cell_type": "markdown",
   "id": "2db9c8e5",
   "metadata": {},
   "source": [
    "**Preprocessing**"
   ]
  },
  {
   "cell_type": "code",
   "execution_count": 2,
   "id": "1ae5ddc7",
   "metadata": {},
   "outputs": [],
   "source": [
    "ravdess_emotions = {'01':'neutral', '02':'calm', '03':'happy', '04':'sad',\\\n",
    "                   '05':'angry', '06':'fear', '07':'disgust','08':'surprise'}"
   ]
  },
  {
   "cell_type": "code",
   "execution_count": 3,
   "id": "ce0692fa",
   "metadata": {},
   "outputs": [],
   "source": [
    "def scale_minmax(X, min=0.0, max=1.0):\n",
    "    X_std = (X - X.min()) / (X.max() - X.min())\n",
    "    X_scaled = X_std * (max - min) + min\n",
    "    return X_scaled\n",
    "\n",
    "def spectrogram_image(y, sr, out, hop_length, n_mels):\n",
    "    # use log-melspectrogram\n",
    "    mels = librosa.feature.melspectrogram(y=y, sr=sr, n_mels=n_mels,\n",
    "                                            n_fft=hop_length*2, hop_length=hop_length)\n",
    "    mels = np.log(mels + 1e-9) # add small number to avoid log(0)\n",
    "\n",
    "    # min-max scale to fit inside 8-bit range\n",
    "    img = scale_minmax(mels, 0, 255).astype(np.uint8)\n",
    "    img = np.flip(img, axis=0) # put low frequencies at the bottom in image\n",
    "    img = 255-img # invert. make black==more energy\n",
    "\n",
    "    # save as PNG\n",
    "    skimage.io.imsave(out, img)\n",
    "\n",
    "def get_image_path(file_path):\n",
    "    path_list = file_path.split('/')\n",
    "    img_path = path_list[-1]\n",
    "    \n",
    "     # settings\n",
    "    hop_length = 512 # number of samples per time-step in spectrogram\n",
    "    n_mels = 128 # number of bins in spectrogram. Height of image\n",
    "    time_steps = 384 # number of time-steps. Width of image\n",
    "\n",
    "    # load audio. Using example from librosa\n",
    "    y, sr = librosa.load(file_path, offset=1.0, duration=10.0, sr=22050)\n",
    "    out = 'data/images/' + img_path[:-4] + '.png'\n",
    "\n",
    "    # extract a fixed length window\n",
    "    start_sample = 0 # starting at beginning\n",
    "    length_samples = time_steps*hop_length\n",
    "    window = y[start_sample:start_sample+length_samples]\n",
    "    \n",
    "    # convert to PNG\n",
    "    spectrogram_image(window, sr=sr, out=out, hop_length=hop_length, n_mels=n_mels)\n",
    "    # print('wrote file', out)\n",
    "    \n",
    "    return out"
   ]
  },
  {
   "cell_type": "code",
   "execution_count": 5,
   "id": "5d290171",
   "metadata": {
    "scrolled": true
   },
   "outputs": [
    {
     "name": "stdout",
     "output_type": "stream",
     "text": [
      "All Images Written\n"
     ]
    }
   ],
   "source": [
    "processed_data = []\n",
    "# Folder path of the data \n",
    "data_path = 'data/speech-emotion-recognition-ravdess-data/'\n",
    "\n",
    "# Extracting Label of audio clip from the file name based on the name of the dataset. \n",
    "for root, dirs, files in os.walk(data_path):\n",
    "    for file in files:\n",
    "        if not file.endswith('.DS_Store'):\n",
    "            file_path = os.path.join(root, file)\n",
    "            # Split the file name based on dataset\n",
    "            file_breakdown = file.split('-')\n",
    "            if file_breakdown[3] == '01' and file_breakdown[5] == '01':\n",
    "                emotion = ravdess_emotions[file_breakdown[2]]\n",
    "                emotion_id = int(file_breakdown[2])\n",
    "                statement = int(file_breakdown[4])\n",
    "                actor = int(file_breakdown[6][:-4])\n",
    "            \n",
    "                img_path = get_image_path(file_path)\n",
    "                #print(emotion)\n",
    "                processed_data.append([file_path, actor, emotion, emotion_id, statement, img_path])\n",
    "print(\"All Images Written\")\n",
    "# Compute Recipe Outputs: \n",
    "speech_data_processed_df = pd.DataFrame(processed_data, columns=['file_name','actor','emotions','emotion_id','statement','image_path'])"
   ]
  },
  {
   "cell_type": "code",
   "execution_count": 6,
   "id": "31b9f59c",
   "metadata": {
    "scrolled": true
   },
   "outputs": [
    {
     "data": {
      "text/html": [
       "<div>\n",
       "<style scoped>\n",
       "    .dataframe tbody tr th:only-of-type {\n",
       "        vertical-align: middle;\n",
       "    }\n",
       "\n",
       "    .dataframe tbody tr th {\n",
       "        vertical-align: top;\n",
       "    }\n",
       "\n",
       "    .dataframe thead th {\n",
       "        text-align: right;\n",
       "    }\n",
       "</style>\n",
       "<table border=\"1\" class=\"dataframe\">\n",
       "  <thead>\n",
       "    <tr style=\"text-align: right;\">\n",
       "      <th></th>\n",
       "      <th>file_name</th>\n",
       "      <th>actor</th>\n",
       "      <th>emotions</th>\n",
       "      <th>emotion_id</th>\n",
       "      <th>statement</th>\n",
       "      <th>image_path</th>\n",
       "    </tr>\n",
       "  </thead>\n",
       "  <tbody>\n",
       "    <tr>\n",
       "      <th>0</th>\n",
       "      <td>data/speech-emotion-recognition-ravdess-data/A...</td>\n",
       "      <td>16</td>\n",
       "      <td>angry</td>\n",
       "      <td>5</td>\n",
       "      <td>2</td>\n",
       "      <td>data/images/03-01-05-01-02-01-16.png</td>\n",
       "    </tr>\n",
       "    <tr>\n",
       "      <th>1</th>\n",
       "      <td>data/speech-emotion-recognition-ravdess-data/A...</td>\n",
       "      <td>16</td>\n",
       "      <td>disgust</td>\n",
       "      <td>7</td>\n",
       "      <td>1</td>\n",
       "      <td>data/images/03-01-07-01-01-01-16.png</td>\n",
       "    </tr>\n",
       "    <tr>\n",
       "      <th>2</th>\n",
       "      <td>data/speech-emotion-recognition-ravdess-data/A...</td>\n",
       "      <td>16</td>\n",
       "      <td>surprise</td>\n",
       "      <td>8</td>\n",
       "      <td>1</td>\n",
       "      <td>data/images/03-01-08-01-01-01-16.png</td>\n",
       "    </tr>\n",
       "    <tr>\n",
       "      <th>3</th>\n",
       "      <td>data/speech-emotion-recognition-ravdess-data/A...</td>\n",
       "      <td>16</td>\n",
       "      <td>calm</td>\n",
       "      <td>2</td>\n",
       "      <td>2</td>\n",
       "      <td>data/images/03-01-02-01-02-01-16.png</td>\n",
       "    </tr>\n",
       "    <tr>\n",
       "      <th>4</th>\n",
       "      <td>data/speech-emotion-recognition-ravdess-data/A...</td>\n",
       "      <td>16</td>\n",
       "      <td>happy</td>\n",
       "      <td>3</td>\n",
       "      <td>2</td>\n",
       "      <td>data/images/03-01-03-01-02-01-16.png</td>\n",
       "    </tr>\n",
       "  </tbody>\n",
       "</table>\n",
       "</div>"
      ],
      "text/plain": [
       "                                           file_name  actor  emotions  \\\n",
       "0  data/speech-emotion-recognition-ravdess-data/A...     16     angry   \n",
       "1  data/speech-emotion-recognition-ravdess-data/A...     16   disgust   \n",
       "2  data/speech-emotion-recognition-ravdess-data/A...     16  surprise   \n",
       "3  data/speech-emotion-recognition-ravdess-data/A...     16      calm   \n",
       "4  data/speech-emotion-recognition-ravdess-data/A...     16     happy   \n",
       "\n",
       "   emotion_id  statement                            image_path  \n",
       "0           5          2  data/images/03-01-05-01-02-01-16.png  \n",
       "1           7          1  data/images/03-01-07-01-01-01-16.png  \n",
       "2           8          1  data/images/03-01-08-01-01-01-16.png  \n",
       "3           2          2  data/images/03-01-02-01-02-01-16.png  \n",
       "4           3          2  data/images/03-01-03-01-02-01-16.png  "
      ]
     },
     "execution_count": 6,
     "metadata": {},
     "output_type": "execute_result"
    }
   ],
   "source": [
    "speech_data_processed_df.head()"
   ]
  },
  {
   "cell_type": "code",
   "execution_count": 8,
   "id": "d9be1afd",
   "metadata": {},
   "outputs": [
    {
     "name": "stdout",
     "output_type": "stream",
     "text": [
      "Audio: data/speech-emotion-recognition-ravdess-data/Actor_16/03-01-05-01-02-01-16.wav\n",
      "Image: data/images/03-01-05-01-02-01-16.png\n"
     ]
    }
   ],
   "source": [
    "# Audio File: \n",
    "print(f\"Audio: {speech_data_processed_df.file_name[0]}\")\n",
    "# Image File: \n",
    "print(f\"Image: {speech_data_processed_df.image_path[0]}\")"
   ]
  },
  {
   "cell_type": "markdown",
   "id": "e2351575",
   "metadata": {},
   "source": [
    "**Understanding Class Imbalance**"
   ]
  },
  {
   "cell_type": "code",
   "execution_count": 9,
   "id": "29e2bf8a",
   "metadata": {},
   "outputs": [
    {
     "data": {
      "text/html": [
       "<div>\n",
       "<style scoped>\n",
       "    .dataframe tbody tr th:only-of-type {\n",
       "        vertical-align: middle;\n",
       "    }\n",
       "\n",
       "    .dataframe tbody tr th {\n",
       "        vertical-align: top;\n",
       "    }\n",
       "\n",
       "    .dataframe thead th {\n",
       "        text-align: right;\n",
       "    }\n",
       "</style>\n",
       "<table border=\"1\" class=\"dataframe\">\n",
       "  <thead>\n",
       "    <tr style=\"text-align: right;\">\n",
       "      <th></th>\n",
       "      <th>file_name</th>\n",
       "      <th>actor</th>\n",
       "      <th>emotion_id</th>\n",
       "      <th>statement</th>\n",
       "      <th>image_path</th>\n",
       "    </tr>\n",
       "    <tr>\n",
       "      <th>emotions</th>\n",
       "      <th></th>\n",
       "      <th></th>\n",
       "      <th></th>\n",
       "      <th></th>\n",
       "      <th></th>\n",
       "    </tr>\n",
       "  </thead>\n",
       "  <tbody>\n",
       "    <tr>\n",
       "      <th>angry</th>\n",
       "      <td>48</td>\n",
       "      <td>48</td>\n",
       "      <td>48</td>\n",
       "      <td>48</td>\n",
       "      <td>48</td>\n",
       "    </tr>\n",
       "    <tr>\n",
       "      <th>calm</th>\n",
       "      <td>48</td>\n",
       "      <td>48</td>\n",
       "      <td>48</td>\n",
       "      <td>48</td>\n",
       "      <td>48</td>\n",
       "    </tr>\n",
       "    <tr>\n",
       "      <th>disgust</th>\n",
       "      <td>48</td>\n",
       "      <td>48</td>\n",
       "      <td>48</td>\n",
       "      <td>48</td>\n",
       "      <td>48</td>\n",
       "    </tr>\n",
       "    <tr>\n",
       "      <th>fear</th>\n",
       "      <td>48</td>\n",
       "      <td>48</td>\n",
       "      <td>48</td>\n",
       "      <td>48</td>\n",
       "      <td>48</td>\n",
       "    </tr>\n",
       "    <tr>\n",
       "      <th>happy</th>\n",
       "      <td>48</td>\n",
       "      <td>48</td>\n",
       "      <td>48</td>\n",
       "      <td>48</td>\n",
       "      <td>48</td>\n",
       "    </tr>\n",
       "    <tr>\n",
       "      <th>neutral</th>\n",
       "      <td>48</td>\n",
       "      <td>48</td>\n",
       "      <td>48</td>\n",
       "      <td>48</td>\n",
       "      <td>48</td>\n",
       "    </tr>\n",
       "    <tr>\n",
       "      <th>sad</th>\n",
       "      <td>48</td>\n",
       "      <td>48</td>\n",
       "      <td>48</td>\n",
       "      <td>48</td>\n",
       "      <td>48</td>\n",
       "    </tr>\n",
       "    <tr>\n",
       "      <th>surprise</th>\n",
       "      <td>48</td>\n",
       "      <td>48</td>\n",
       "      <td>48</td>\n",
       "      <td>48</td>\n",
       "      <td>48</td>\n",
       "    </tr>\n",
       "  </tbody>\n",
       "</table>\n",
       "</div>"
      ],
      "text/plain": [
       "          file_name  actor  emotion_id  statement  image_path\n",
       "emotions                                                     \n",
       "angry            48     48          48         48          48\n",
       "calm             48     48          48         48          48\n",
       "disgust          48     48          48         48          48\n",
       "fear             48     48          48         48          48\n",
       "happy            48     48          48         48          48\n",
       "neutral          48     48          48         48          48\n",
       "sad              48     48          48         48          48\n",
       "surprise         48     48          48         48          48"
      ]
     },
     "execution_count": 9,
     "metadata": {},
     "output_type": "execute_result"
    }
   ],
   "source": [
    "speech_data_processed_df.groupby('emotions').count()"
   ]
  },
  {
   "cell_type": "markdown",
   "id": "37aa80fc",
   "metadata": {},
   "source": [
    "**Understanding Acoustic Feature Extraction**"
   ]
  },
  {
   "cell_type": "code",
   "execution_count": 10,
   "id": "bee57d45",
   "metadata": {},
   "outputs": [],
   "source": [
    "import wave"
   ]
  },
  {
   "cell_type": "code",
   "execution_count": 11,
   "id": "c30a41ae",
   "metadata": {},
   "outputs": [],
   "source": [
    "sf_filewave = wave.open('data/speech-emotion-recognition-ravdess-data/Actor_01/03-01-01-01-01-01-01.wav')\n",
    "signal_sf = sf_filewave.readframes(-1)\n",
    "\n",
    "# Convert audio bytes to integers\n",
    "soundwave_sf = np.frombuffer(signal_sf, dtype='int16')\n",
    "\n",
    "# Get the sound wave frame rate \n",
    "framerate_sf = sf_filewave.getframerate()\n",
    "\n",
    "# Find the sound wave timestamps \n",
    "time_sf = np.linspace(start=0, stop=len(soundwave_sf)/framerate_sf, num=len(soundwave_sf))"
   ]
  },
  {
   "cell_type": "code",
   "execution_count": 13,
   "id": "9afccede",
   "metadata": {
    "scrolled": true
   },
   "outputs": [
    {
     "data": {
      "image/png": "[encoded data removed]",
      "text/plain": [
       "<Figure size 1080x216 with 1 Axes>"
      ]
     },
     "metadata": {
      "needs_background": "light"
     },
     "output_type": "display_data"
    }
   ],
   "source": [
    "fig, ax = plt.subplots(figsize=(15,3))\n",
    "\n",
    "# Setup the title and axis titles\n",
    "plt.title('Amplitude over Time')\n",
    "plt.ylabel('Amplitude')\n",
    "plt.xlabel('Time (seconds)')\n",
    "# Add the audio data to the plot\n",
    "ax.plot(time_sf, soundwave_sf, alpha=0.5)\n",
    "plt.savefig('audio_ex.png')"
   ]
  },
  {
   "cell_type": "code",
   "execution_count": 16,
   "id": "fc45dcf3",
   "metadata": {},
   "outputs": [],
   "source": [
    "x, sr = librosa.load('data/speech-emotion-recognition-ravdess-data/Actor_01/03-01-01-01-01-02-01.wav', offset=1.0, duration=10.0, sr=22050)"
   ]
  },
  {
   "cell_type": "code",
   "execution_count": 19,
   "id": "4c4b403a",
   "metadata": {
    "scrolled": true
   },
   "outputs": [
    {
     "data": {
      "image/png": "[encoded data removed]",
      "text/plain": [
       "<Figure size 1008x360 with 2 Axes>"
      ]
     },
     "metadata": {
      "needs_background": "light"
     },
     "output_type": "display_data"
    }
   ],
   "source": [
    "X = librosa.stft(x)\n",
    "Xdb = librosa.amplitude_to_db(abs(X))\n",
    "plt.figure(figsize=(14, 5))\n",
    "librosa.display.specshow(Xdb, sr=sr, x_axis='time', y_axis='log')\n",
    "plt.colorbar()\n",
    "plt.savefig('melSpec_ex.png')"
   ]
  },
  {
   "cell_type": "markdown",
   "id": "1bfdf7d6",
   "metadata": {},
   "source": [
    "**Sorting Dataframe**"
   ]
  },
  {
   "cell_type": "code",
   "execution_count": 20,
   "id": "d7857d38",
   "metadata": {},
   "outputs": [],
   "source": [
    "speech_data_processed_df = speech_data_processed_df.sort_values(by=['actor','statement','emotion_id'], ignore_index=True)"
   ]
  },
  {
   "cell_type": "code",
   "execution_count": 21,
   "id": "63e55ab5",
   "metadata": {},
   "outputs": [
    {
     "data": {
      "text/html": [
       "<div>\n",
       "<style scoped>\n",
       "    .dataframe tbody tr th:only-of-type {\n",
       "        vertical-align: middle;\n",
       "    }\n",
       "\n",
       "    .dataframe tbody tr th {\n",
       "        vertical-align: top;\n",
       "    }\n",
       "\n",
       "    .dataframe thead th {\n",
       "        text-align: right;\n",
       "    }\n",
       "</style>\n",
       "<table border=\"1\" class=\"dataframe\">\n",
       "  <thead>\n",
       "    <tr style=\"text-align: right;\">\n",
       "      <th></th>\n",
       "      <th>file_name</th>\n",
       "      <th>actor</th>\n",
       "      <th>emotions</th>\n",
       "      <th>emotion_id</th>\n",
       "      <th>statement</th>\n",
       "      <th>image_path</th>\n",
       "    </tr>\n",
       "  </thead>\n",
       "  <tbody>\n",
       "    <tr>\n",
       "      <th>0</th>\n",
       "      <td>data/speech-emotion-recognition-ravdess-data/A...</td>\n",
       "      <td>1</td>\n",
       "      <td>neutral</td>\n",
       "      <td>1</td>\n",
       "      <td>1</td>\n",
       "      <td>data/images/03-01-01-01-01-01-01.png</td>\n",
       "    </tr>\n",
       "    <tr>\n",
       "      <th>1</th>\n",
       "      <td>data/speech-emotion-recognition-ravdess-data/A...</td>\n",
       "      <td>1</td>\n",
       "      <td>calm</td>\n",
       "      <td>2</td>\n",
       "      <td>1</td>\n",
       "      <td>data/images/03-01-02-01-01-01-01.png</td>\n",
       "    </tr>\n",
       "    <tr>\n",
       "      <th>2</th>\n",
       "      <td>data/speech-emotion-recognition-ravdess-data/A...</td>\n",
       "      <td>1</td>\n",
       "      <td>happy</td>\n",
       "      <td>3</td>\n",
       "      <td>1</td>\n",
       "      <td>data/images/03-01-03-01-01-01-01.png</td>\n",
       "    </tr>\n",
       "    <tr>\n",
       "      <th>3</th>\n",
       "      <td>data/speech-emotion-recognition-ravdess-data/A...</td>\n",
       "      <td>1</td>\n",
       "      <td>sad</td>\n",
       "      <td>4</td>\n",
       "      <td>1</td>\n",
       "      <td>data/images/03-01-04-01-01-01-01.png</td>\n",
       "    </tr>\n",
       "    <tr>\n",
       "      <th>4</th>\n",
       "      <td>data/speech-emotion-recognition-ravdess-data/A...</td>\n",
       "      <td>1</td>\n",
       "      <td>angry</td>\n",
       "      <td>5</td>\n",
       "      <td>1</td>\n",
       "      <td>data/images/03-01-05-01-01-01-01.png</td>\n",
       "    </tr>\n",
       "    <tr>\n",
       "      <th>5</th>\n",
       "      <td>data/speech-emotion-recognition-ravdess-data/A...</td>\n",
       "      <td>1</td>\n",
       "      <td>fear</td>\n",
       "      <td>6</td>\n",
       "      <td>1</td>\n",
       "      <td>data/images/03-01-06-01-01-01-01.png</td>\n",
       "    </tr>\n",
       "    <tr>\n",
       "      <th>6</th>\n",
       "      <td>data/speech-emotion-recognition-ravdess-data/A...</td>\n",
       "      <td>1</td>\n",
       "      <td>disgust</td>\n",
       "      <td>7</td>\n",
       "      <td>1</td>\n",
       "      <td>data/images/03-01-07-01-01-01-01.png</td>\n",
       "    </tr>\n",
       "    <tr>\n",
       "      <th>7</th>\n",
       "      <td>data/speech-emotion-recognition-ravdess-data/A...</td>\n",
       "      <td>1</td>\n",
       "      <td>surprise</td>\n",
       "      <td>8</td>\n",
       "      <td>1</td>\n",
       "      <td>data/images/03-01-08-01-01-01-01.png</td>\n",
       "    </tr>\n",
       "    <tr>\n",
       "      <th>8</th>\n",
       "      <td>data/speech-emotion-recognition-ravdess-data/A...</td>\n",
       "      <td>1</td>\n",
       "      <td>neutral</td>\n",
       "      <td>1</td>\n",
       "      <td>2</td>\n",
       "      <td>data/images/03-01-01-01-02-01-01.png</td>\n",
       "    </tr>\n",
       "    <tr>\n",
       "      <th>9</th>\n",
       "      <td>data/speech-emotion-recognition-ravdess-data/A...</td>\n",
       "      <td>1</td>\n",
       "      <td>calm</td>\n",
       "      <td>2</td>\n",
       "      <td>2</td>\n",
       "      <td>data/images/03-01-02-01-02-01-01.png</td>\n",
       "    </tr>\n",
       "    <tr>\n",
       "      <th>10</th>\n",
       "      <td>data/speech-emotion-recognition-ravdess-data/A...</td>\n",
       "      <td>1</td>\n",
       "      <td>happy</td>\n",
       "      <td>3</td>\n",
       "      <td>2</td>\n",
       "      <td>data/images/03-01-03-01-02-01-01.png</td>\n",
       "    </tr>\n",
       "    <tr>\n",
       "      <th>11</th>\n",
       "      <td>data/speech-emotion-recognition-ravdess-data/A...</td>\n",
       "      <td>1</td>\n",
       "      <td>sad</td>\n",
       "      <td>4</td>\n",
       "      <td>2</td>\n",
       "      <td>data/images/03-01-04-01-02-01-01.png</td>\n",
       "    </tr>\n",
       "    <tr>\n",
       "      <th>12</th>\n",
       "      <td>data/speech-emotion-recognition-ravdess-data/A...</td>\n",
       "      <td>1</td>\n",
       "      <td>angry</td>\n",
       "      <td>5</td>\n",
       "      <td>2</td>\n",
       "      <td>data/images/03-01-05-01-02-01-01.png</td>\n",
       "    </tr>\n",
       "    <tr>\n",
       "      <th>13</th>\n",
       "      <td>data/speech-emotion-recognition-ravdess-data/A...</td>\n",
       "      <td>1</td>\n",
       "      <td>fear</td>\n",
       "      <td>6</td>\n",
       "      <td>2</td>\n",
       "      <td>data/images/03-01-06-01-02-01-01.png</td>\n",
       "    </tr>\n",
       "    <tr>\n",
       "      <th>14</th>\n",
       "      <td>data/speech-emotion-recognition-ravdess-data/A...</td>\n",
       "      <td>1</td>\n",
       "      <td>disgust</td>\n",
       "      <td>7</td>\n",
       "      <td>2</td>\n",
       "      <td>data/images/03-01-07-01-02-01-01.png</td>\n",
       "    </tr>\n",
       "    <tr>\n",
       "      <th>15</th>\n",
       "      <td>data/speech-emotion-recognition-ravdess-data/A...</td>\n",
       "      <td>1</td>\n",
       "      <td>surprise</td>\n",
       "      <td>8</td>\n",
       "      <td>2</td>\n",
       "      <td>data/images/03-01-08-01-02-01-01.png</td>\n",
       "    </tr>\n",
       "  </tbody>\n",
       "</table>\n",
       "</div>"
      ],
      "text/plain": [
       "                                            file_name  actor  emotions  \\\n",
       "0   data/speech-emotion-recognition-ravdess-data/A...      1   neutral   \n",
       "1   data/speech-emotion-recognition-ravdess-data/A...      1      calm   \n",
       "2   data/speech-emotion-recognition-ravdess-data/A...      1     happy   \n",
       "3   data/speech-emotion-recognition-ravdess-data/A...      1       sad   \n",
       "4   data/speech-emotion-recognition-ravdess-data/A...      1     angry   \n",
       "5   data/speech-emotion-recognition-ravdess-data/A...      1      fear   \n",
       "6   data/speech-emotion-recognition-ravdess-data/A...      1   disgust   \n",
       "7   data/speech-emotion-recognition-ravdess-data/A...      1  surprise   \n",
       "8   data/speech-emotion-recognition-ravdess-data/A...      1   neutral   \n",
       "9   data/speech-emotion-recognition-ravdess-data/A...      1      calm   \n",
       "10  data/speech-emotion-recognition-ravdess-data/A...      1     happy   \n",
       "11  data/speech-emotion-recognition-ravdess-data/A...      1       sad   \n",
       "12  data/speech-emotion-recognition-ravdess-data/A...      1     angry   \n",
       "13  data/speech-emotion-recognition-ravdess-data/A...      1      fear   \n",
       "14  data/speech-emotion-recognition-ravdess-data/A...      1   disgust   \n",
       "15  data/speech-emotion-recognition-ravdess-data/A...      1  surprise   \n",
       "\n",
       "    emotion_id  statement                            image_path  \n",
       "0            1          1  data/images/03-01-01-01-01-01-01.png  \n",
       "1            2          1  data/images/03-01-02-01-01-01-01.png  \n",
       "2            3          1  data/images/03-01-03-01-01-01-01.png  \n",
       "3            4          1  data/images/03-01-04-01-01-01-01.png  \n",
       "4            5          1  data/images/03-01-05-01-01-01-01.png  \n",
       "5            6          1  data/images/03-01-06-01-01-01-01.png  \n",
       "6            7          1  data/images/03-01-07-01-01-01-01.png  \n",
       "7            8          1  data/images/03-01-08-01-01-01-01.png  \n",
       "8            1          2  data/images/03-01-01-01-02-01-01.png  \n",
       "9            2          2  data/images/03-01-02-01-02-01-01.png  \n",
       "10           3          2  data/images/03-01-03-01-02-01-01.png  \n",
       "11           4          2  data/images/03-01-04-01-02-01-01.png  \n",
       "12           5          2  data/images/03-01-05-01-02-01-01.png  \n",
       "13           6          2  data/images/03-01-06-01-02-01-01.png  \n",
       "14           7          2  data/images/03-01-07-01-02-01-01.png  \n",
       "15           8          2  data/images/03-01-08-01-02-01-01.png  "
      ]
     },
     "execution_count": 21,
     "metadata": {},
     "output_type": "execute_result"
    }
   ],
   "source": [
    "speech_data_processed_df.head(16)"
   ]
  },
  {
   "cell_type": "code",
   "execution_count": 22,
   "id": "eba8999e",
   "metadata": {},
   "outputs": [],
   "source": [
    "speech_data_processed_df.to_csv('data/RAVDESS_processed_dataset.csv')"
   ]
  },
  {
   "cell_type": "markdown",
   "id": "aa4dd6af",
   "metadata": {},
   "source": [
    "**Notes:**\n",
    "for the dataset and dataloader\n",
    "\n",
    "We want it to return:\n",
    "> x, y \\\n",
    "(1 image - Emotion , All 8 images - Emotions)\n",
    "\n",
    "> Image: Tensor X: [batch_size,1,H,W] Y: [batch_size, 8, H, W]\n",
    "\n",
    "Model: \\\n",
    "GAN: 1 image to all other images\n",
    "Loss: 6 Predicted vs 6 Actual [for that actor] \n",
    "\n",
    "1 Emotion translate to all other emotions "
   ]
  },
  {
   "cell_type": "code",
   "execution_count": 23,
   "id": "137b66bb",
   "metadata": {},
   "outputs": [
    {
     "data": {
      "text/html": [
       "<div>\n",
       "<style scoped>\n",
       "    .dataframe tbody tr th:only-of-type {\n",
       "        vertical-align: middle;\n",
       "    }\n",
       "\n",
       "    .dataframe tbody tr th {\n",
       "        vertical-align: top;\n",
       "    }\n",
       "\n",
       "    .dataframe thead th {\n",
       "        text-align: right;\n",
       "    }\n",
       "</style>\n",
       "<table border=\"1\" class=\"dataframe\">\n",
       "  <thead>\n",
       "    <tr style=\"text-align: right;\">\n",
       "      <th></th>\n",
       "      <th>Unnamed: 0</th>\n",
       "      <th>file_name</th>\n",
       "      <th>actor</th>\n",
       "      <th>emotions</th>\n",
       "      <th>emotion_id</th>\n",
       "      <th>statement</th>\n",
       "      <th>image_path</th>\n",
       "    </tr>\n",
       "  </thead>\n",
       "  <tbody>\n",
       "    <tr>\n",
       "      <th>0</th>\n",
       "      <td>0</td>\n",
       "      <td>data/speech-emotion-recognition-ravdess-data/A...</td>\n",
       "      <td>1</td>\n",
       "      <td>neutral</td>\n",
       "      <td>1</td>\n",
       "      <td>1</td>\n",
       "      <td>data/images/03-01-01-01-01-01-01.png</td>\n",
       "    </tr>\n",
       "    <tr>\n",
       "      <th>1</th>\n",
       "      <td>1</td>\n",
       "      <td>data/speech-emotion-recognition-ravdess-data/A...</td>\n",
       "      <td>1</td>\n",
       "      <td>calm</td>\n",
       "      <td>2</td>\n",
       "      <td>1</td>\n",
       "      <td>data/images/03-01-02-01-01-01-01.png</td>\n",
       "    </tr>\n",
       "    <tr>\n",
       "      <th>2</th>\n",
       "      <td>2</td>\n",
       "      <td>data/speech-emotion-recognition-ravdess-data/A...</td>\n",
       "      <td>1</td>\n",
       "      <td>happy</td>\n",
       "      <td>3</td>\n",
       "      <td>1</td>\n",
       "      <td>data/images/03-01-03-01-01-01-01.png</td>\n",
       "    </tr>\n",
       "    <tr>\n",
       "      <th>3</th>\n",
       "      <td>3</td>\n",
       "      <td>data/speech-emotion-recognition-ravdess-data/A...</td>\n",
       "      <td>1</td>\n",
       "      <td>sad</td>\n",
       "      <td>4</td>\n",
       "      <td>1</td>\n",
       "      <td>data/images/03-01-04-01-01-01-01.png</td>\n",
       "    </tr>\n",
       "    <tr>\n",
       "      <th>4</th>\n",
       "      <td>4</td>\n",
       "      <td>data/speech-emotion-recognition-ravdess-data/A...</td>\n",
       "      <td>1</td>\n",
       "      <td>angry</td>\n",
       "      <td>5</td>\n",
       "      <td>1</td>\n",
       "      <td>data/images/03-01-05-01-01-01-01.png</td>\n",
       "    </tr>\n",
       "  </tbody>\n",
       "</table>\n",
       "</div>"
      ],
      "text/plain": [
       "   Unnamed: 0                                          file_name  actor  \\\n",
       "0           0  data/speech-emotion-recognition-ravdess-data/A...      1   \n",
       "1           1  data/speech-emotion-recognition-ravdess-data/A...      1   \n",
       "2           2  data/speech-emotion-recognition-ravdess-data/A...      1   \n",
       "3           3  data/speech-emotion-recognition-ravdess-data/A...      1   \n",
       "4           4  data/speech-emotion-recognition-ravdess-data/A...      1   \n",
       "\n",
       "  emotions  emotion_id  statement                            image_path  \n",
       "0  neutral           1          1  data/images/03-01-01-01-01-01-01.png  \n",
       "1     calm           2          1  data/images/03-01-02-01-01-01-01.png  \n",
       "2    happy           3          1  data/images/03-01-03-01-01-01-01.png  \n",
       "3      sad           4          1  data/images/03-01-04-01-01-01-01.png  \n",
       "4    angry           5          1  data/images/03-01-05-01-01-01-01.png  "
      ]
     },
     "execution_count": 23,
     "metadata": {},
     "output_type": "execute_result"
    }
   ],
   "source": [
    "speech_df = pd.read_csv('data/RAVDESS_processed_dataset.csv')\n",
    "speech_df.head()"
   ]
  },
  {
   "cell_type": "markdown",
   "id": "b8b76d0d",
   "metadata": {},
   "source": [
    "**Dataset**"
   ]
  },
  {
   "cell_type": "code",
   "execution_count": 38,
   "id": "7b712f4e",
   "metadata": {},
   "outputs": [],
   "source": [
    "class EmotionDataset(Dataset):\n",
    "    def __init__(self, df, transform=None):\n",
    "        self.imgs_files = [f for f in df.image_path.values]\n",
    "        self.label = [f for f in df['emotion_id'].values]\n",
    "    \n",
    "    def __len__(self): \n",
    "        return len(self.label)\n",
    "    \n",
    "    def _getname__(self, idx): \n",
    "        return self.label[idx]\n",
    "    \n",
    "    def __getitem__(self, idx):\n",
    "        i = idx%8\n",
    "        idx = int(idx/8) \n",
    "        \n",
    "        img_paths = self.imgs_files[8*idx:8*idx+8]\n",
    "        label = self.label[idx]\n",
    "        \n",
    "        imgs = []\n",
    "        # Read Image:\n",
    "        for img_path in img_paths: \n",
    "            img = cv2.imread(img_path, cv2.IMREAD_GRAYSCALE)\n",
    "            img = cv2.resize(img, (128,128))\n",
    "            imgs.append(img)\n",
    "                \n",
    "        images = torch.from_numpy(np.array(imgs))\n",
    "        \n",
    "        print(i)\n",
    "        return images[i].unsqueeze(0), images"
   ]
  },
  {
   "cell_type": "code",
   "execution_count": 39,
   "id": "285476c1",
   "metadata": {},
   "outputs": [],
   "source": [
    "train_ds = EmotionDataset(speech_df)"
   ]
  },
  {
   "cell_type": "code",
   "execution_count": 43,
   "id": "595efe69",
   "metadata": {},
   "outputs": [
    {
     "name": "stdout",
     "output_type": "stream",
     "text": [
      "2\n"
     ]
    }
   ],
   "source": [
    "x,y = train_ds.__getitem__(2)"
   ]
  },
  {
   "cell_type": "code",
   "execution_count": 44,
   "id": "5efe703e",
   "metadata": {},
   "outputs": [
    {
     "data": {
      "text/plain": [
       "(torch.Size([1, 128, 128]), torch.Size([8, 128, 128]))"
      ]
     },
     "execution_count": 44,
     "metadata": {},
     "output_type": "execute_result"
    }
   ],
   "source": [
    "x.size(), y.size()"
   ]
  },
  {
   "cell_type": "markdown",
   "id": "e789c442",
   "metadata": {},
   "source": [
    "**checking math**"
   ]
  },
  {
   "cell_type": "code",
   "execution_count": 46,
   "id": "b779c993",
   "metadata": {},
   "outputs": [],
   "source": [
    "ex = [1,2,3,4,5,6,7,8,\\\n",
    "      11,12,13,14,15,16,17,18,\\\n",
    "      21,22,23,24,25,26,27,28]\n",
    "array = np.array(ex)"
   ]
  },
  {
   "cell_type": "code",
   "execution_count": 47,
   "id": "3f593377",
   "metadata": {},
   "outputs": [
    {
     "data": {
      "text/plain": [
       "array([ 1,  2,  3,  4,  5,  6,  7,  8, 11, 12, 13, 14, 15, 16, 17, 18, 21,\n",
       "       22, 23, 24, 25, 26, 27, 28])"
      ]
     },
     "execution_count": 47,
     "metadata": {},
     "output_type": "execute_result"
    }
   ],
   "source": [
    "array"
   ]
  },
  {
   "cell_type": "code",
   "execution_count": 48,
   "id": "140ed6c8",
   "metadata": {},
   "outputs": [
    {
     "name": "stdout",
     "output_type": "stream",
     "text": [
      "0\n",
      "0\n",
      "[1 2 3 4 5 6 7 8]\n",
      "1\n",
      "0\n",
      "[1 2 3 4 5 6 7 8]\n",
      "2\n",
      "0\n",
      "[1 2 3 4 5 6 7 8]\n",
      "3\n",
      "0\n",
      "[1 2 3 4 5 6 7 8]\n",
      "4\n",
      "0\n",
      "[1 2 3 4 5 6 7 8]\n",
      "5\n",
      "0\n",
      "[1 2 3 4 5 6 7 8]\n",
      "6\n",
      "0\n",
      "[1 2 3 4 5 6 7 8]\n",
      "7\n",
      "0\n",
      "[1 2 3 4 5 6 7 8]\n",
      "0\n",
      "1\n",
      "[11 12 13 14 15 16 17 18]\n",
      "1\n",
      "1\n",
      "[11 12 13 14 15 16 17 18]\n",
      "2\n",
      "1\n",
      "[11 12 13 14 15 16 17 18]\n",
      "3\n",
      "1\n",
      "[11 12 13 14 15 16 17 18]\n",
      "4\n",
      "1\n",
      "[11 12 13 14 15 16 17 18]\n",
      "5\n",
      "1\n",
      "[11 12 13 14 15 16 17 18]\n",
      "6\n",
      "1\n",
      "[11 12 13 14 15 16 17 18]\n",
      "7\n",
      "1\n",
      "[11 12 13 14 15 16 17 18]\n",
      "0\n",
      "2\n",
      "[21 22 23 24 25 26 27 28]\n",
      "1\n",
      "2\n",
      "[21 22 23 24 25 26 27 28]\n",
      "2\n",
      "2\n",
      "[21 22 23 24 25 26 27 28]\n",
      "3\n",
      "2\n",
      "[21 22 23 24 25 26 27 28]\n",
      "4\n",
      "2\n",
      "[21 22 23 24 25 26 27 28]\n",
      "5\n",
      "2\n",
      "[21 22 23 24 25 26 27 28]\n",
      "6\n",
      "2\n",
      "[21 22 23 24 25 26 27 28]\n",
      "7\n",
      "2\n",
      "[21 22 23 24 25 26 27 28]\n"
     ]
    }
   ],
   "source": [
    "for idx in range(len(array)): \n",
    "    i = idx%8\n",
    "    print(i)\n",
    "    idx = int(idx/8)\n",
    "    print(idx)\n",
    "    print(array[8*idx:8*idx+8])"
   ]
  },
  {
   "cell_type": "code",
   "execution_count": null,
   "id": "28cafc9d",
   "metadata": {},
   "outputs": [],
   "source": []
  }
 ],
 "metadata": {
  "kernelspec": {
   "display_name": "Python 3",
   "language": "python",
   "name": "python3"
  },
  "language_info": {
   "codemirror_mode": {
    "name": "ipython",
    "version": 3
   },
   "file_extension": ".py",
   "mimetype": "text/x-python",
   "name": "python",
   "nbconvert_exporter": "python",
   "pygments_lexer": "ipython3",
   "version": "3.8.8"
  }
 },
 "nbformat": 4,
 "nbformat_minor": 5
}
